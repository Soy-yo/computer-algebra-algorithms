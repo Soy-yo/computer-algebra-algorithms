{
 "cells": [
  {
   "cell_type": "markdown",
   "metadata": {},
   "source": [
    "# Algoritmos sobre bases de Gröbner"
   ]
  },
  {
   "cell_type": "code",
   "execution_count": 1,
   "metadata": {},
   "outputs": [],
   "source": [
    "from IPython.display import Math, display\n",
    "import os\n",
    "\n",
    "if 'examples' in os.getcwd():\n",
    "    os.chdir('..')"
   ]
  },
  {
   "cell_type": "markdown",
   "metadata": {},
   "source": [
    "## Multidivisión multivariante"
   ]
  },
  {
   "cell_type": "code",
   "execution_count": 2,
   "metadata": {},
   "outputs": [],
   "source": [
    "from compalg import link, IF\n",
    "from algorithms import multidivision"
   ]
  },
  {
   "cell_type": "code",
   "execution_count": 3,
   "metadata": {},
   "outputs": [
    {
     "data": {
      "text/latex": [
       "$\\displaystyle x^{2} + x + 1 = (x) \\cdot (x + 1) + 1 \\in \\mathbb{F}_{2}$"
      ],
      "text/plain": [
       "<IPython.core.display.Math object>"
      ]
     },
     "metadata": {},
     "output_type": "display_data"
    },
    {
     "data": {
      "text/latex": [
       "$\\displaystyle x^{3}y^{2} = (y^{2}) \\cdot (x^{3}) + 0\\cdot (-y^{4} + x^{2}y) + 0 \\in \\mathbb{F}_{2}$"
      ],
      "text/plain": [
       "<IPython.core.display.Math object>"
      ]
     },
     "metadata": {},
     "output_type": "display_data"
    },
    {
     "data": {
      "text/latex": [
       "$\\displaystyle 2x^{2}y + x^{2}z + 5xz^{2} + 3y^{2}z = (2y + z) \\cdot (x^{2}) + 0\\cdot (xy^{2}) + (14yz + 14z^{2}) \\cdot (-y + z) + 5xz^{2} + 3z^{3} \\in \\mathbb{F}_{17}$"
      ],
      "text/plain": [
       "<IPython.core.display.Math object>"
      ]
     },
     "metadata": {},
     "output_type": "display_data"
    }
   ],
   "source": [
    "x, = link('x')\n",
    "F = IF(2)\n",
    "f = x ** 2 + x + 1\n",
    "f1 = x + 1\n",
    "q, r = multidivision(f, [f1], F)\n",
    "display(Math(f.__latex__() + r\" = (\" + q.__latex__() + \") \\cdot (\" + f1.__latex__() + r\") + \" + r.__latex__() +\n",
    "            r\" \\in \" + F.__latex__()))\n",
    "\n",
    "x, y = link('x', 'y')\n",
    "f = x ** 3 * y ** 2\n",
    "f1, f2 = x ** 3, x ** 2 * y - y ** 4\n",
    "q1, q2, r = multidivision(f, [f1, f2], F)\n",
    "display(Math(f.__latex__() + r\" = (\" + q1.__latex__() + \") \\cdot (\" + f1.__latex__() + r\") + \" +\n",
    "             repr(q2) + \"\\cdot (\" + f2.__latex__() + r\") + \" + repr(r) +\n",
    "             r\" \\in \" + F.__latex__()))\n",
    "\n",
    "x, y, z = link('x', 'y', 'z')\n",
    "F = IF(17)\n",
    "f = x ** 2 * z + 2 * x ** 2 * y + 5 * z ** 2 * x + 3 * y ** 2 * z\n",
    "f1, f2, f3 = x ** 2, x * y ** 2, z - y\n",
    "q1, q2, q3, r = multidivision(f, [f1, f2, f3], F)\n",
    "display(Math(f.__latex__() + r\" = (\" + q1.__latex__() + \") \\cdot (\" + f1.__latex__() + r\") + \" +\n",
    "             repr(q2) + \"\\cdot (\" + f2.__latex__() + r\") + \"\n",
    "             \"(\" + q3.__latex__() + \") \\cdot (\" + f3.__latex__() + r\") + \" + r.__latex__() +\n",
    "             r\" \\in \" + F.__latex__()))"
   ]
  },
  {
   "cell_type": "markdown",
   "metadata": {},
   "source": [
    "## Algoritmo de Buchberger"
   ]
  },
  {
   "cell_type": "code",
   "execution_count": 4,
   "metadata": {},
   "outputs": [],
   "source": [
    "from compalg import set_ordering\n",
    "from algorithms import groebner_basis"
   ]
  },
  {
   "cell_type": "code",
   "execution_count": 5,
   "metadata": {},
   "outputs": [
    {
     "data": {
      "text/latex": [
       "$\\displaystyle \\text{Usando } >_{dp}$"
      ],
      "text/plain": [
       "<IPython.core.display.Math object>"
      ]
     },
     "metadata": {},
     "output_type": "display_data"
    },
    {
     "data": {
      "text/latex": [
       "$\\displaystyle \\text{La base de Gröbner para }x^{3}, \\, 6y^{4} + x^{2}y\\text{ es }\\{x^{3}, \\,6y^{4} + x^{2}y\\}$"
      ],
      "text/plain": [
       "<IPython.core.display.Math object>"
      ]
     },
     "metadata": {},
     "output_type": "display_data"
    },
    {
     "data": {
      "text/latex": [
       "$\\displaystyle \\text{Usando } >_{lp}$"
      ],
      "text/plain": [
       "<IPython.core.display.Math object>"
      ]
     },
     "metadata": {},
     "output_type": "display_data"
    },
    {
     "data": {
      "text/latex": [
       "$\\displaystyle \\text{La base de Gröbner para }x^{3}, \\, 6y^{4} + x^{2}y\\text{ es }\\{x^{3}, \\,6y^{4} + x^{2}y, \\,xy^{4}, \\,y^{7}\\}$"
      ],
      "text/plain": [
       "<IPython.core.display.Math object>"
      ]
     },
     "metadata": {},
     "output_type": "display_data"
    },
    {
     "data": {
      "text/latex": [
       "$\\displaystyle \\text{La base de Gröbner para }xy + 6, \\, xz + 6\\text{ es }\\{xy + 6, \\,xz + 6, \\,y + 6z\\}$"
      ],
      "text/plain": [
       "<IPython.core.display.Math object>"
      ]
     },
     "metadata": {},
     "output_type": "display_data"
    },
    {
     "data": {
      "text/latex": [
       "$\\displaystyle \\text{La base de Gröbner para }z^{2} + 5, \\, y^{2} + 2y + 6, \\, xy + xz + yz + x + z + 2, \\, x^{2} + x + y + 6\\text{ es }\\{z^{2} + 5, \\,y^{2} + 2y + 6, \\,xy + xz + yz + x + z + 2, \\,x^{2} + x + y + 6\\}$"
      ],
      "text/plain": [
       "<IPython.core.display.Math object>"
      ]
     },
     "metadata": {},
     "output_type": "display_data"
    }
   ],
   "source": [
    "x, y = link('x', 'y')\n",
    "F = IF(7)\n",
    "\n",
    "set_ordering('dp')\n",
    "display(Math(r\"\\text{Usando } >_{dp}\"))\n",
    "\n",
    "f1 = (x ** 3) @ F\n",
    "f2 = (x ** 2 * y + 6 * y ** 4) @ F\n",
    "# los mismos\n",
    "fs = groebner_basis([f1, f2], F)\n",
    "result = r\"\\{\" + r\", \\,\".join(fi.__latex__() for fi in fs) + r\"\\}\"\n",
    "display(Math(r\"\\text{La base de Gröbner para }\" + f1.__latex__() + \", \\, \" + f2.__latex__() + r\"\\text{ es }\"\n",
    "            + result))\n",
    "\n",
    "set_ordering('lp')\n",
    "display(Math(r\"\\text{Usando } >_{lp}\"))\n",
    "\n",
    "f1 = (x ** 3) @ F\n",
    "f2 = (x ** 2 * y + 6 * y ** 4) @ F\n",
    "# xy^4, y^7\n",
    "fs = groebner_basis([f1, f2], F)\n",
    "result = r\"\\{\" + r\", \\,\".join(fi.__latex__() for fi in fs) + r\"\\}\"\n",
    "display(Math(r\"\\text{La base de Gröbner para }\" + f1.__latex__() + \", \\, \" + f2.__latex__() + r\"\\text{ es }\"\n",
    "            + result))\n",
    "\n",
    "x, y, z = link('x', 'y', 'z')\n",
    "f1 = (x * y - 1) @ F\n",
    "f2 = (x * z - 1) @ F\n",
    "# y - z\n",
    "fs = groebner_basis([f1, f2], F)\n",
    "result = r\"\\{\" + r\", \\,\".join(fi.__latex__() for fi in fs) + r\"\\}\"\n",
    "display(Math(r\"\\text{La base de Gröbner para }\" + f1.__latex__() + \", \\, \" + f2.__latex__() + r\"\\text{ es }\"\n",
    "            + result))\n",
    "\n",
    "f1 = (z ** 2 - 2) @ F\n",
    "f2 = (y ** 2 + 2 * y - 1) @ F\n",
    "f3 = ((y + z + 1) * x + y * z + z + 2) @ F\n",
    "f4 = (x ** 2 + x + y - 1) @ F\n",
    "# los mismos\n",
    "fs = groebner_basis([f1, f2, f3, f4], F)\n",
    "result = r\"\\{\" + r\", \\,\".join(fi.__latex__() for fi in fs) + r\"\\}\"\n",
    "display(Math(r\"\\text{La base de Gröbner para }\" + f1.__latex__() + \", \\, \" + f2.__latex__() + \n",
    "             \", \\, \" + f3.__latex__() + \", \\, \" + f4.__latex__() + r\"\\text{ es }\" + result))"
   ]
  },
  {
   "cell_type": "markdown",
   "metadata": {},
   "source": [
    "## Test de pertenencia a un ideal"
   ]
  },
  {
   "cell_type": "code",
   "execution_count": 6,
   "metadata": {},
   "outputs": [],
   "source": [
    "from algorithms import in_ideal"
   ]
  },
  {
   "cell_type": "code",
   "execution_count": 7,
   "metadata": {},
   "outputs": [
    {
     "data": {
      "text/latex": [
       "$\\displaystyle \\text{Usando } >_{dp}$"
      ],
      "text/plain": [
       "<IPython.core.display.Math object>"
      ]
     },
     "metadata": {},
     "output_type": "display_data"
    },
    {
     "data": {
      "text/latex": [
       "$\\displaystyle x^{3}\\in \\langle x^{3}, \\,6y^{4} + x^{2}y\\rangle$"
      ],
      "text/plain": [
       "<IPython.core.display.Math object>"
      ]
     },
     "metadata": {},
     "output_type": "display_data"
    },
    {
     "data": {
      "text/latex": [
       "$\\displaystyle 6y^{4} + x^{2}y\\in \\langle x^{3}, \\,6y^{4} + x^{2}y\\rangle$"
      ],
      "text/plain": [
       "<IPython.core.display.Math object>"
      ]
     },
     "metadata": {},
     "output_type": "display_data"
    },
    {
     "data": {
      "text/latex": [
       "$\\displaystyle 3x^{3}y^{2} + 6xy^{4} + x^{3}y\\in \\langle x^{3}, \\,6y^{4} + x^{2}y\\rangle$"
      ],
      "text/plain": [
       "<IPython.core.display.Math object>"
      ]
     },
     "metadata": {},
     "output_type": "display_data"
    },
    {
     "data": {
      "text/latex": [
       "$\\displaystyle 6y^{4} + x^{3} + x^{2}y + x\\notin \\langle x^{3}, \\,6y^{4} + x^{2}y\\rangle$"
      ],
      "text/plain": [
       "<IPython.core.display.Math object>"
      ]
     },
     "metadata": {},
     "output_type": "display_data"
    },
    {
     "data": {
      "text/latex": [
       "$\\displaystyle \\text{Usando } >_{lp}$"
      ],
      "text/plain": [
       "<IPython.core.display.Math object>"
      ]
     },
     "metadata": {},
     "output_type": "display_data"
    },
    {
     "data": {
      "text/latex": [
       "$\\displaystyle y^{7}\\in \\langle x^{3}, \\,6y^{4} + x^{2}y\\rangle$"
      ],
      "text/plain": [
       "<IPython.core.display.Math object>"
      ]
     },
     "metadata": {},
     "output_type": "display_data"
    },
    {
     "data": {
      "text/latex": [
       "$\\displaystyle y^{7} + 6y^{4} + x^{3} + x^{2}y\\in \\langle x^{3}, \\,6y^{4} + x^{2}y\\rangle$"
      ],
      "text/plain": [
       "<IPython.core.display.Math object>"
      ]
     },
     "metadata": {},
     "output_type": "display_data"
    },
    {
     "data": {
      "text/latex": [
       "$\\displaystyle xz^{2} + 3xy + 6xz + 2y^{2} + 6yz + 6z + 5\\notin \\langle xy + 6, \\,xz + 6\\rangle$"
      ],
      "text/plain": [
       "<IPython.core.display.Math object>"
      ]
     },
     "metadata": {},
     "output_type": "display_data"
    }
   ],
   "source": [
    "x, y = link('x', 'y')\n",
    "F = IF(7)\n",
    "\n",
    "set_ordering('dp')\n",
    "display(Math(r\"\\text{Usando } >_{dp}\"))\n",
    "\n",
    "f1 = (x ** 3) @ F\n",
    "f2 = (x ** 2 * y + 6 * y ** 4) @ F\n",
    "\n",
    "g = f1\n",
    "result = r\"\\in \" if in_ideal(g, [f1, f2], F) else r\"\\notin \"\n",
    "display(Math(g.__latex__() + result + r\"\\langle \" + f1.__latex__() + r\", \\,\" + f2.__latex__() + r\"\\rangle\"))\n",
    "\n",
    "g = f2\n",
    "result = r\"\\in \" if in_ideal(g, [f1, f2], F) else r\"\\notin \"\n",
    "display(Math(g.__latex__() + result + r\"\\langle \" + f1.__latex__() + r\", \\,\" + f2.__latex__() + r\"\\rangle\"))\n",
    "\n",
    "g = (3 * y ** 2 * f1 + x * f2) @ F\n",
    "result = r\"\\in \" if in_ideal(g, [f1, f2], F) else r\"\\notin \"\n",
    "display(Math(g.__latex__() + result + r\"\\langle \" + f1.__latex__() + r\", \\,\" + f2.__latex__() + r\"\\rangle\"))\n",
    "\n",
    "g = (f1 + f2 + x) @ F\n",
    "result = r\"\\in \" if in_ideal(g, [f1, f2], F) else r\"\\notin \"\n",
    "display(Math(g.__latex__() + result + r\"\\langle \" + f1.__latex__() + r\", \\,\" + f2.__latex__() + r\"\\rangle\"))\n",
    "\n",
    "set_ordering('lp')\n",
    "display(Math(r\"\\text{Usando } >_{lp}\"))\n",
    "\n",
    "g = (y ** 7) @ F\n",
    "result = r\"\\in \" if in_ideal(g, [f1, f2], F) else r\"\\notin \"\n",
    "display(Math(g.__latex__() + result + r\"\\langle \" + f1.__latex__() + r\", \\,\" + f2.__latex__() + r\"\\rangle\"))\n",
    "\n",
    "g = f1 + f2 + y ** 7\n",
    "result = r\"\\in \" if in_ideal(g, [f1, f2], F) else r\"\\notin \"\n",
    "display(Math(g.__latex__() + result + r\"\\langle \" + f1.__latex__() + r\", \\,\" + f2.__latex__() + r\"\\rangle\"))\n",
    "\n",
    "x, y, z = link('x', 'y', 'z')\n",
    "f1 = (x * y - 1) @ F\n",
    "f2 = (x * z - 1) @ F\n",
    "\n",
    "g = (2 * f1 + z * f2 + (x + y) * (y - z) + y ** 2) @ F\n",
    "result = r\"\\in \" if in_ideal(g, [f1, f2], F) else r\"\\notin \"\n",
    "display(Math(g.__latex__() + result + r\"\\langle \" + f1.__latex__() + r\", \\,\" + f2.__latex__() + r\"\\rangle\"))"
   ]
  }
 ],
 "metadata": {
  "kernelspec": {
   "display_name": "Python 3",
   "language": "python",
   "name": "python3"
  },
  "language_info": {
   "codemirror_mode": {
    "name": "ipython",
    "version": 3
   },
   "file_extension": ".py",
   "mimetype": "text/x-python",
   "name": "python",
   "nbconvert_exporter": "python",
   "pygments_lexer": "ipython3",
   "version": "3.8.3"
  }
 },
 "nbformat": 4,
 "nbformat_minor": 4
}
