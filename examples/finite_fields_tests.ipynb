{
 "cells": [
  {
   "cell_type": "markdown",
   "metadata": {
    "collapsed": true
   },
   "source": [
    "# Algoritmos en cuerpos finitos"
   ]
  },
  {
   "cell_type": "code",
   "execution_count": 1,
   "metadata": {},
   "outputs": [],
   "source": [
    "from IPython.display import Math, display\n",
    "import os\n",
    "\n",
    "if 'examples' in os.getcwd():\n",
    "    os.chdir('..')"
   ]
  },
  {
   "cell_type": "markdown",
   "metadata": {},
   "source": [
    "## Inverso de un elemento"
   ]
  },
  {
   "cell_type": "code",
   "execution_count": 2,
   "metadata": {},
   "outputs": [],
   "source": [
    "from compalg import IF"
   ]
  },
  {
   "cell_type": "code",
   "execution_count": 3,
   "metadata": {},
   "outputs": [
    {
     "data": {
      "text/latex": [
       "$\\displaystyle [1]_{17}^{-1} = 1$"
      ],
      "text/plain": [
       "<IPython.core.display.Math object>"
      ]
     },
     "metadata": {},
     "output_type": "display_data"
    },
    {
     "data": {
      "text/latex": [
       "$\\displaystyle [2]_{17}^{-1} = 9$"
      ],
      "text/plain": [
       "<IPython.core.display.Math object>"
      ]
     },
     "metadata": {},
     "output_type": "display_data"
    },
    {
     "data": {
      "text/latex": [
       "$\\displaystyle [3]_{17}^{-1} = 6$"
      ],
      "text/plain": [
       "<IPython.core.display.Math object>"
      ]
     },
     "metadata": {},
     "output_type": "display_data"
    },
    {
     "data": {
      "text/latex": [
       "$\\displaystyle [4]_{17}^{-1} = 13$"
      ],
      "text/plain": [
       "<IPython.core.display.Math object>"
      ]
     },
     "metadata": {},
     "output_type": "display_data"
    },
    {
     "data": {
      "text/latex": [
       "$\\displaystyle [5]_{17}^{-1} = 7$"
      ],
      "text/plain": [
       "<IPython.core.display.Math object>"
      ]
     },
     "metadata": {},
     "output_type": "display_data"
    },
    {
     "data": {
      "text/latex": [
       "$\\displaystyle [6]_{17}^{-1} = 3$"
      ],
      "text/plain": [
       "<IPython.core.display.Math object>"
      ]
     },
     "metadata": {},
     "output_type": "display_data"
    },
    {
     "data": {
      "text/latex": [
       "$\\displaystyle [7]_{17}^{-1} = 5$"
      ],
      "text/plain": [
       "<IPython.core.display.Math object>"
      ]
     },
     "metadata": {},
     "output_type": "display_data"
    },
    {
     "data": {
      "text/latex": [
       "$\\displaystyle [8]_{17}^{-1} = 15$"
      ],
      "text/plain": [
       "<IPython.core.display.Math object>"
      ]
     },
     "metadata": {},
     "output_type": "display_data"
    },
    {
     "data": {
      "text/latex": [
       "$\\displaystyle [9]_{17}^{-1} = 2$"
      ],
      "text/plain": [
       "<IPython.core.display.Math object>"
      ]
     },
     "metadata": {},
     "output_type": "display_data"
    },
    {
     "data": {
      "text/latex": [
       "$\\displaystyle [10]_{17}^{-1} = 12$"
      ],
      "text/plain": [
       "<IPython.core.display.Math object>"
      ]
     },
     "metadata": {},
     "output_type": "display_data"
    },
    {
     "data": {
      "text/latex": [
       "$\\displaystyle [11]_{17}^{-1} = 14$"
      ],
      "text/plain": [
       "<IPython.core.display.Math object>"
      ]
     },
     "metadata": {},
     "output_type": "display_data"
    },
    {
     "data": {
      "text/latex": [
       "$\\displaystyle [12]_{17}^{-1} = 10$"
      ],
      "text/plain": [
       "<IPython.core.display.Math object>"
      ]
     },
     "metadata": {},
     "output_type": "display_data"
    },
    {
     "data": {
      "text/latex": [
       "$\\displaystyle [13]_{17}^{-1} = 4$"
      ],
      "text/plain": [
       "<IPython.core.display.Math object>"
      ]
     },
     "metadata": {},
     "output_type": "display_data"
    },
    {
     "data": {
      "text/latex": [
       "$\\displaystyle [14]_{17}^{-1} = 11$"
      ],
      "text/plain": [
       "<IPython.core.display.Math object>"
      ]
     },
     "metadata": {},
     "output_type": "display_data"
    },
    {
     "data": {
      "text/latex": [
       "$\\displaystyle [15]_{17}^{-1} = 8$"
      ],
      "text/plain": [
       "<IPython.core.display.Math object>"
      ]
     },
     "metadata": {},
     "output_type": "display_data"
    },
    {
     "data": {
      "text/latex": [
       "$\\displaystyle [16]_{17}^{-1} = 16$"
      ],
      "text/plain": [
       "<IPython.core.display.Math object>"
      ]
     },
     "metadata": {},
     "output_type": "display_data"
    }
   ],
   "source": [
    "p = 17\n",
    "F = IF(p)\n",
    "\n",
    "for a in range(1, p):\n",
    "    display(Math(r\"[\" + str(a) + r\"]_{\" + str(p) + r\"}^{-1} = \" + str(F.inverse(a))))"
   ]
  },
  {
   "cell_type": "code",
   "execution_count": 4,
   "metadata": {},
   "outputs": [
    {
     "name": "stdout",
     "output_type": "stream",
     "text": [
      "0 no tiene inverso\n"
     ]
    }
   ],
   "source": [
    "try:\n",
    "    F.inverse(0)\n",
    "except:\n",
    "    print(\"0 no tiene inverso\")"
   ]
  },
  {
   "cell_type": "code",
   "execution_count": 5,
   "metadata": {},
   "outputs": [],
   "source": [
    "from compalg import Var"
   ]
  },
  {
   "cell_type": "markdown",
   "metadata": {},
   "source": [
    "#### Funciona también con cuerpos finitos con $q = p^n : n > 1$"
   ]
  },
  {
   "cell_type": "code",
   "execution_count": 6,
   "metadata": {},
   "outputs": [
    {
     "data": {
      "text/latex": [
       "$\\displaystyle (x^{6} + x^{4} + x + 1)^{-1} = x^{7} + x^{6} + x^{3} + x \\mod x^{8} + x^{4} + x^{3} + x + 1$"
      ],
      "text/plain": [
       "<IPython.core.display.Math object>"
      ]
     },
     "metadata": {},
     "output_type": "display_data"
    }
   ],
   "source": [
    "x = Var('x')\n",
    "p = 2\n",
    "h = x ** 8 + x ** 4 + x ** 3 + x + 1\n",
    "F = IF(p, h)\n",
    "\n",
    "f = x ** 6 + x ** 4 + x + 1\n",
    "display(Math(r\"(\" + f.__latex__() + r\")^{-1} = \" + F.inverse(f).__latex__() + \" \\mod \" + h.__latex__()))"
   ]
  },
  {
   "cell_type": "markdown",
   "metadata": {},
   "source": [
    "## Test de irreducibilidad"
   ]
  },
  {
   "cell_type": "code",
   "execution_count": 7,
   "metadata": {},
   "outputs": [
    {
     "data": {
      "text/latex": [
       "$\\displaystyle \\text{El polinomio }t + 1\\in \\mathbb{F}_{2}[t]\\text{ es irreducible}$"
      ],
      "text/plain": [
       "<IPython.core.display.Math object>"
      ]
     },
     "metadata": {},
     "output_type": "display_data"
    },
    {
     "data": {
      "text/latex": [
       "$\\displaystyle \\text{El polinomio }t^{7} + t^{6} + t^{5} + t^{4} + t^{2} + t + 1\\in \\mathbb{F}_{2}[t]\\text{ es irreducible}$"
      ],
      "text/plain": [
       "<IPython.core.display.Math object>"
      ]
     },
     "metadata": {},
     "output_type": "display_data"
    },
    {
     "data": {
      "text/latex": [
       "$\\displaystyle \\text{El polinomio }t^{3} + 1\\in \\mathbb{F}_{3}[t]\\text{ no es irreducible}$"
      ],
      "text/plain": [
       "<IPython.core.display.Math object>"
      ]
     },
     "metadata": {},
     "output_type": "display_data"
    },
    {
     "data": {
      "text/latex": [
       "$\\displaystyle \\text{El polinomio }t^{2} - t + x\\in \\mathbb{F}_{4}[t]\\text{ es irreducible}$"
      ],
      "text/plain": [
       "<IPython.core.display.Math object>"
      ]
     },
     "metadata": {},
     "output_type": "display_data"
    },
    {
     "data": {
      "text/latex": [
       "$\\displaystyle \\text{El polinomio }t^{2} + (-x - 1)\\in \\mathbb{F}_{4}[t]\\text{ no es irreducible}$"
      ],
      "text/plain": [
       "<IPython.core.display.Math object>"
      ]
     },
     "metadata": {},
     "output_type": "display_data"
    }
   ],
   "source": [
    "t = Var('t')\n",
    "x = Var('x')\n",
    "\n",
    "tests = [\n",
    "    (IF(2)[t], t + 1),\n",
    "    (IF(2)[t], t ** 7 + t ** 6 + t ** 5 + t ** 4 + t ** 2 + t + 1),\n",
    "    (IF(3)[t], t ** 3 + 1),                                             # (t + 1) ** 3\n",
    "    (IF(2, x ** 2 + x + 1)[t], t ** 2 - t + x),\n",
    "    (IF(2, x ** 2 + x + 1)[t], t ** 2 - (x + 1)),                       # (t - x) * (t + x)\n",
    "]\n",
    "\n",
    "for F, p in tests:\n",
    "    result = \"\" if F.is_irreducible(p) else \"no \"\n",
    "    display(Math(r\"\\text{El polinomio }\" + p.__latex__() + r\"\\in \" + F.__latex__() + r\"\\text{ \" + result + r\"es irreducible}\"))"
   ]
  },
  {
   "cell_type": "markdown",
   "metadata": {},
   "source": [
    "## Logaritmo discreto\n",
    "\n",
    "$g^x = h \\implies x = \\log_g h$"
   ]
  },
  {
   "cell_type": "code",
   "execution_count": 8,
   "metadata": {},
   "outputs": [
    {
     "data": {
      "text/latex": [
       "$\\displaystyle \\log_{2} 3 = 3 \\in \\mathbb{F}_{5}$"
      ],
      "text/plain": [
       "<IPython.core.display.Math object>"
      ]
     },
     "metadata": {},
     "output_type": "display_data"
    },
    {
     "data": {
      "text/latex": [
       "$\\displaystyle \\log_{2} 11 = 25 \\in \\mathbb{F}_{59}$"
      ],
      "text/plain": [
       "<IPython.core.display.Math object>"
      ]
     },
     "metadata": {},
     "output_type": "display_data"
    },
    {
     "data": {
      "text/latex": [
       "$\\displaystyle \\log_{2} 228 = 110 \\in \\mathbb{F}_{383}$"
      ],
      "text/plain": [
       "<IPython.core.display.Math object>"
      ]
     },
     "metadata": {},
     "output_type": "display_data"
    },
    {
     "data": {
      "text/latex": [
       "$\\displaystyle \\log_{x} x + 1 = 2 \\in \\mathbb{F}_{4}$"
      ],
      "text/plain": [
       "<IPython.core.display.Math object>"
      ]
     },
     "metadata": {},
     "output_type": "display_data"
    },
    {
     "data": {
      "text/latex": [
       "$\\displaystyle \\log_{x + 1} x + 2 = 7 \\in \\mathbb{F}_{9}$"
      ],
      "text/plain": [
       "<IPython.core.display.Math object>"
      ]
     },
     "metadata": {},
     "output_type": "display_data"
    }
   ],
   "source": [
    "x = Var('x')\n",
    "\n",
    "tests = [\n",
    "    (IF(5), 2, 3),\n",
    "    (IF(59), 2, 11),\n",
    "    (IF(383), 2, 228),\n",
    "    (IF(2, x ** 2 + x + 1), x, x + 1),\n",
    "    (IF(3, x ** 2 + 1), x + 1, x + 2)\n",
    "]\n",
    "\n",
    "for F, g, h in tests:\n",
    "    r = getattr(g, '__latex__', lambda: repr(g))\n",
    "    s = getattr(h, '__latex__', lambda: repr(h))\n",
    "    display(Math(r\"\\log_{\" + r() + r\"} \" + s() + r\" = \" + str(F.discrete_logarithm(g, h)) + r\" \\in \" + F.__latex__()))"
   ]
  }
 ],
 "metadata": {
  "kernelspec": {
   "display_name": "Python 3",
   "language": "python",
   "name": "python3"
  },
  "language_info": {
   "codemirror_mode": {
    "name": "ipython",
    "version": 3
   },
   "file_extension": ".py",
   "mimetype": "text/x-python",
   "name": "python",
   "nbconvert_exporter": "python",
   "pygments_lexer": "ipython3",
   "version": "3.8.3"
  }
 },
 "nbformat": 4,
 "nbformat_minor": 1
}
