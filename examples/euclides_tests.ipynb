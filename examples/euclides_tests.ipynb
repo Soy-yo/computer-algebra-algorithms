{
 "cells": [
  {
   "cell_type": "markdown",
   "metadata": {},
   "source": [
    "# Algoritmos de Euclides"
   ]
  },
  {
   "cell_type": "code",
   "execution_count": 1,
   "metadata": {},
   "outputs": [],
   "source": [
    "from IPython.display import Math, display\n",
    "import os\n",
    "\n",
    "if 'examples' in os.getcwd():\n",
    "    os.chdir('..')"
   ]
  },
  {
   "cell_type": "markdown",
   "metadata": {},
   "source": [
    "## Máximo común divisor\n",
    "\n",
    "Este algoritmo funciona en cualquier dominio euclídeo."
   ]
  },
  {
   "cell_type": "code",
   "execution_count": 2,
   "metadata": {
    "pycharm": {
     "name": "#%%\n"
    }
   },
   "outputs": [],
   "source": [
    "import numpy as np\n",
    "from compalg import IZ"
   ]
  },
  {
   "cell_type": "code",
   "execution_count": 3,
   "metadata": {
    "pycharm": {
     "name": "#%%\n"
    }
   },
   "outputs": [
    {
     "data": {
      "text/latex": [
       "$\\displaystyle \\text{mcd}(60, \\, 36) = 12$"
      ],
      "text/plain": [
       "<IPython.core.display.Math object>"
      ]
     },
     "metadata": {},
     "output_type": "display_data"
    },
    {
     "data": {
      "text/latex": [
       "$\\displaystyle \\text{mcd}(0, \\, 5) = 5$"
      ],
      "text/plain": [
       "<IPython.core.display.Math object>"
      ]
     },
     "metadata": {},
     "output_type": "display_data"
    },
    {
     "data": {
      "text/latex": [
       "$\\displaystyle \\text{mcd}(0, \\, 0) = 0$"
      ],
      "text/plain": [
       "<IPython.core.display.Math object>"
      ]
     },
     "metadata": {},
     "output_type": "display_data"
    },
    {
     "data": {
      "text/latex": [
       "$\\displaystyle \\text{mcd}(5460, \\, 1) = 1$"
      ],
      "text/plain": [
       "<IPython.core.display.Math object>"
      ]
     },
     "metadata": {},
     "output_type": "display_data"
    },
    {
     "data": {
      "text/latex": [
       "$\\displaystyle \\text{mcd}(-60, \\, 36) = 12$"
      ],
      "text/plain": [
       "<IPython.core.display.Math object>"
      ]
     },
     "metadata": {},
     "output_type": "display_data"
    },
    {
     "data": {
      "text/latex": [
       "$\\displaystyle \\text{mcd}(-60, \\, -36) = 12$"
      ],
      "text/plain": [
       "<IPython.core.display.Math object>"
      ]
     },
     "metadata": {},
     "output_type": "display_data"
    }
   ],
   "source": [
    "numbers = [\n",
    "    (60, 36),\n",
    "    (0, 5),\n",
    "    (0, 0),\n",
    "    (5460, 1),\n",
    "    (-60, 36),\n",
    "    (-60, -36)\n",
    "]\n",
    "\n",
    "for a, b in numbers:\n",
    "    display(Math(r\"\\text{mcd}(\" + str(a) + \", \\, \" + str(b) + \") = \" + str(IZ.gcd(a, b))))"
   ]
  },
  {
   "cell_type": "markdown",
   "metadata": {},
   "source": [
    "#### Funciona con números aleatorios."
   ]
  },
  {
   "cell_type": "code",
   "execution_count": 4,
   "metadata": {},
   "outputs": [
    {
     "data": {
      "text/latex": [
       "$\\displaystyle \\text{mcd}(7, \\, 4722) = 1$"
      ],
      "text/plain": [
       "<IPython.core.display.Math object>"
      ]
     },
     "metadata": {},
     "output_type": "display_data"
    },
    {
     "data": {
      "text/latex": [
       "$\\displaystyle \\text{mcd}(4621, \\, -1519) = 1$"
      ],
      "text/plain": [
       "<IPython.core.display.Math object>"
      ]
     },
     "metadata": {},
     "output_type": "display_data"
    },
    {
     "data": {
      "text/latex": [
       "$\\displaystyle \\text{mcd}(-149, \\, 3893) = 1$"
      ],
      "text/plain": [
       "<IPython.core.display.Math object>"
      ]
     },
     "metadata": {},
     "output_type": "display_data"
    },
    {
     "data": {
      "text/latex": [
       "$\\displaystyle \\text{mcd}(-3923, \\, -715) = 1$"
      ],
      "text/plain": [
       "<IPython.core.display.Math object>"
      ]
     },
     "metadata": {},
     "output_type": "display_data"
    },
    {
     "data": {
      "text/latex": [
       "$\\displaystyle \\text{mcd}(2286, \\, 2925) = 9$"
      ],
      "text/plain": [
       "<IPython.core.display.Math object>"
      ]
     },
     "metadata": {},
     "output_type": "display_data"
    },
    {
     "data": {
      "text/latex": [
       "$\\displaystyle \\text{mcd}(845, \\, 4008) = 1$"
      ],
      "text/plain": [
       "<IPython.core.display.Math object>"
      ]
     },
     "metadata": {},
     "output_type": "display_data"
    },
    {
     "data": {
      "text/latex": [
       "$\\displaystyle \\text{mcd}(4052, \\, 2016) = 4$"
      ],
      "text/plain": [
       "<IPython.core.display.Math object>"
      ]
     },
     "metadata": {},
     "output_type": "display_data"
    },
    {
     "data": {
      "text/latex": [
       "$\\displaystyle \\text{mcd}(2399, \\, -927) = 1$"
      ],
      "text/plain": [
       "<IPython.core.display.Math object>"
      ]
     },
     "metadata": {},
     "output_type": "display_data"
    },
    {
     "data": {
      "text/latex": [
       "$\\displaystyle \\text{mcd}(989, \\, 3267) = 1$"
      ],
      "text/plain": [
       "<IPython.core.display.Math object>"
      ]
     },
     "metadata": {},
     "output_type": "display_data"
    },
    {
     "data": {
      "text/latex": [
       "$\\displaystyle \\text{mcd}(4293, \\, -1315) = 1$"
      ],
      "text/plain": [
       "<IPython.core.display.Math object>"
      ]
     },
     "metadata": {},
     "output_type": "display_data"
    }
   ],
   "source": [
    "for _ in range(10):\n",
    "    a, b = np.random.randint(-5000, 5000, (2,), dtype=np.int32)\n",
    "    display(Math(r\"\\text{mcd}(\" + str(a) + \", \\, \" + str(b) + \") = \" + str(IZ.gcd(a, b))))"
   ]
  },
  {
   "cell_type": "markdown",
   "metadata": {},
   "source": [
    "#### Funciona con más de dos elementos."
   ]
  },
  {
   "cell_type": "code",
   "execution_count": 5,
   "metadata": {},
   "outputs": [
    {
     "data": {
      "text/latex": [
       "$\\displaystyle \\text{mcd}(1155, \\, 315, \\, -3675) = 105$"
      ],
      "text/plain": [
       "<IPython.core.display.Math object>"
      ]
     },
     "metadata": {},
     "output_type": "display_data"
    }
   ],
   "source": [
    "display(Math(r\"\\text{mcd}(\" + str(1155) + \", \\, \" + str(315) + \", \\, \" + str(-3675) + \") = \" + str(IZ.gcd(1155, 315, -3675))))"
   ]
  },
  {
   "cell_type": "markdown",
   "metadata": {},
   "source": [
    "## Algoritmo de Euclides extendido\n",
    "\n",
    "Este algoritmo funciona en cualquier dominio euclídeo."
   ]
  },
  {
   "cell_type": "code",
   "execution_count": 6,
   "metadata": {},
   "outputs": [
    {
     "data": {
      "text/latex": [
       "$\\displaystyle 60\\cdot -1+36\\cdot 2=12$"
      ],
      "text/plain": [
       "<IPython.core.display.Math object>"
      ]
     },
     "metadata": {},
     "output_type": "display_data"
    },
    {
     "data": {
      "text/latex": [
       "$\\displaystyle 0\\cdot 0+5\\cdot 1=5$"
      ],
      "text/plain": [
       "<IPython.core.display.Math object>"
      ]
     },
     "metadata": {},
     "output_type": "display_data"
    },
    {
     "data": {
      "text/latex": [
       "$\\displaystyle 0\\cdot 1+0\\cdot 0=0$"
      ],
      "text/plain": [
       "<IPython.core.display.Math object>"
      ]
     },
     "metadata": {},
     "output_type": "display_data"
    },
    {
     "data": {
      "text/latex": [
       "$\\displaystyle 5460\\cdot 0+1\\cdot 1=1$"
      ],
      "text/plain": [
       "<IPython.core.display.Math object>"
      ]
     },
     "metadata": {},
     "output_type": "display_data"
    },
    {
     "data": {
      "text/latex": [
       "$\\displaystyle -60\\cdot 1+36\\cdot 2=12$"
      ],
      "text/plain": [
       "<IPython.core.display.Math object>"
      ]
     },
     "metadata": {},
     "output_type": "display_data"
    },
    {
     "data": {
      "text/latex": [
       "$\\displaystyle -60\\cdot 1+-36\\cdot -2=12$"
      ],
      "text/plain": [
       "<IPython.core.display.Math object>"
      ]
     },
     "metadata": {},
     "output_type": "display_data"
    }
   ],
   "source": [
    "for a, b in numbers:\n",
    "    gcd, (x, y) = IZ.bezout(a, b)\n",
    "    display(Math(str(a) + \"\\cdot \" + str(x) + \"+\" + str(b) + \"\\cdot \" + str(y) + \"=\" + str(gcd)))"
   ]
  },
  {
   "cell_type": "markdown",
   "metadata": {},
   "source": [
    "#### Funciona con números aleatorios."
   ]
  },
  {
   "cell_type": "code",
   "execution_count": 7,
   "metadata": {},
   "outputs": [
    {
     "data": {
      "text/latex": [
       "$\\displaystyle -2933\\cdot -137+740\\cdot -543=1$"
      ],
      "text/plain": [
       "<IPython.core.display.Math object>"
      ]
     },
     "metadata": {},
     "output_type": "display_data"
    },
    {
     "data": {
      "text/latex": [
       "$\\displaystyle 1512\\cdot -76+1352\\cdot 85=8$"
      ],
      "text/plain": [
       "<IPython.core.display.Math object>"
      ]
     },
     "metadata": {},
     "output_type": "display_data"
    },
    {
     "data": {
      "text/latex": [
       "$\\displaystyle 1354\\cdot 253+4282\\cdot -80=2$"
      ],
      "text/plain": [
       "<IPython.core.display.Math object>"
      ]
     },
     "metadata": {},
     "output_type": "display_data"
    },
    {
     "data": {
      "text/latex": [
       "$\\displaystyle 3811\\cdot 595+2568\\cdot -883=1$"
      ],
      "text/plain": [
       "<IPython.core.display.Math object>"
      ]
     },
     "metadata": {},
     "output_type": "display_data"
    },
    {
     "data": {
      "text/latex": [
       "$\\displaystyle 759\\cdot 671+-4897\\cdot 104=1$"
      ],
      "text/plain": [
       "<IPython.core.display.Math object>"
      ]
     },
     "metadata": {},
     "output_type": "display_data"
    },
    {
     "data": {
      "text/latex": [
       "$\\displaystyle -2010\\cdot -2+-210\\cdot 19=30$"
      ],
      "text/plain": [
       "<IPython.core.display.Math object>"
      ]
     },
     "metadata": {},
     "output_type": "display_data"
    },
    {
     "data": {
      "text/latex": [
       "$\\displaystyle -3716\\cdot -116+-279\\cdot 1545=1$"
      ],
      "text/plain": [
       "<IPython.core.display.Math object>"
      ]
     },
     "metadata": {},
     "output_type": "display_data"
    },
    {
     "data": {
      "text/latex": [
       "$\\displaystyle -421\\cdot 899+-2280\\cdot -166=1$"
      ],
      "text/plain": [
       "<IPython.core.display.Math object>"
      ]
     },
     "metadata": {},
     "output_type": "display_data"
    },
    {
     "data": {
      "text/latex": [
       "$\\displaystyle -2837\\cdot 66+161\\cdot 1163=1$"
      ],
      "text/plain": [
       "<IPython.core.display.Math object>"
      ]
     },
     "metadata": {},
     "output_type": "display_data"
    },
    {
     "data": {
      "text/latex": [
       "$\\displaystyle 3416\\cdot -964+-2075\\cdot -1587=1$"
      ],
      "text/plain": [
       "<IPython.core.display.Math object>"
      ]
     },
     "metadata": {},
     "output_type": "display_data"
    }
   ],
   "source": [
    "for _ in range(10):\n",
    "    a, b = np.random.randint(-5000, 5000, (2,), dtype=np.int32)\n",
    "    gcd, (x, y) = IZ.bezout(a, b)\n",
    "    display(Math(str(a) + \"\\cdot \" + str(x) + \"+\" + str(b) + \"\\cdot \" + str(y) + \"=\" + str(gcd)))"
   ]
  },
  {
   "cell_type": "markdown",
   "metadata": {},
   "source": [
    "## Teorema chino del resto"
   ]
  },
  {
   "cell_type": "code",
   "execution_count": 8,
   "metadata": {},
   "outputs": [],
   "source": [
    "from algorithms import solve_congruences"
   ]
  },
  {
   "cell_type": "code",
   "execution_count": 9,
   "metadata": {},
   "outputs": [
    {
     "data": {
      "text/latex": [
       "$\\displaystyle x \\equiv 18 \\mod 8$"
      ],
      "text/plain": [
       "<IPython.core.display.Math object>"
      ]
     },
     "metadata": {},
     "output_type": "display_data"
    },
    {
     "data": {
      "text/latex": [
       "$\\displaystyle \\implies x = 2 \\in \\mathbb{Z}_{8}$"
      ],
      "text/plain": [
       "<IPython.core.display.Math object>"
      ]
     },
     "metadata": {},
     "output_type": "display_data"
    },
    {
     "name": "stdout",
     "output_type": "stream",
     "text": [
      "\n"
     ]
    },
    {
     "data": {
      "text/latex": [
       "$\\displaystyle x \\equiv 1 \\mod 7$"
      ],
      "text/plain": [
       "<IPython.core.display.Math object>"
      ]
     },
     "metadata": {},
     "output_type": "display_data"
    },
    {
     "data": {
      "text/latex": [
       "$\\displaystyle x \\equiv 1 \\mod 13$"
      ],
      "text/plain": [
       "<IPython.core.display.Math object>"
      ]
     },
     "metadata": {},
     "output_type": "display_data"
    },
    {
     "data": {
      "text/latex": [
       "$\\displaystyle x \\equiv 1 \\mod 11$"
      ],
      "text/plain": [
       "<IPython.core.display.Math object>"
      ]
     },
     "metadata": {},
     "output_type": "display_data"
    },
    {
     "data": {
      "text/latex": [
       "$\\displaystyle \\implies x = 1 \\in \\mathbb{Z}_{1001}$"
      ],
      "text/plain": [
       "<IPython.core.display.Math object>"
      ]
     },
     "metadata": {},
     "output_type": "display_data"
    },
    {
     "name": "stdout",
     "output_type": "stream",
     "text": [
      "\n"
     ]
    },
    {
     "data": {
      "text/latex": [
       "$\\displaystyle x \\equiv 4 \\mod 9$"
      ],
      "text/plain": [
       "<IPython.core.display.Math object>"
      ]
     },
     "metadata": {},
     "output_type": "display_data"
    },
    {
     "data": {
      "text/latex": [
       "$\\displaystyle x \\equiv 12 \\mod 14$"
      ],
      "text/plain": [
       "<IPython.core.display.Math object>"
      ]
     },
     "metadata": {},
     "output_type": "display_data"
    },
    {
     "data": {
      "text/latex": [
       "$\\displaystyle x \\equiv 0 \\mod 17$"
      ],
      "text/plain": [
       "<IPython.core.display.Math object>"
      ]
     },
     "metadata": {},
     "output_type": "display_data"
    },
    {
     "data": {
      "text/latex": [
       "$\\displaystyle \\implies x = 544 \\in \\mathbb{Z}_{2142}$"
      ],
      "text/plain": [
       "<IPython.core.display.Math object>"
      ]
     },
     "metadata": {},
     "output_type": "display_data"
    },
    {
     "name": "stdout",
     "output_type": "stream",
     "text": [
      "\n"
     ]
    },
    {
     "data": {
      "text/latex": [
       "$\\displaystyle 5x \\equiv 3 \\mod 21$"
      ],
      "text/plain": [
       "<IPython.core.display.Math object>"
      ]
     },
     "metadata": {},
     "output_type": "display_data"
    },
    {
     "data": {
      "text/latex": [
       "$\\displaystyle \\implies x = 9 \\in \\mathbb{Z}_{21}$"
      ],
      "text/plain": [
       "<IPython.core.display.Math object>"
      ]
     },
     "metadata": {},
     "output_type": "display_data"
    },
    {
     "name": "stdout",
     "output_type": "stream",
     "text": [
      "\n"
     ]
    },
    {
     "data": {
      "text/latex": [
       "$\\displaystyle 4x \\equiv 8 \\mod 21$"
      ],
      "text/plain": [
       "<IPython.core.display.Math object>"
      ]
     },
     "metadata": {},
     "output_type": "display_data"
    },
    {
     "data": {
      "text/latex": [
       "$\\displaystyle 9x \\equiv 23 \\mod 38$"
      ],
      "text/plain": [
       "<IPython.core.display.Math object>"
      ]
     },
     "metadata": {},
     "output_type": "display_data"
    },
    {
     "data": {
      "text/latex": [
       "$\\displaystyle 33x \\equiv 1 \\mod 53$"
      ],
      "text/plain": [
       "<IPython.core.display.Math object>"
      ]
     },
     "metadata": {},
     "output_type": "display_data"
    },
    {
     "data": {
      "text/latex": [
       "$\\displaystyle 1x \\equiv 42 \\mod 55$"
      ],
      "text/plain": [
       "<IPython.core.display.Math object>"
      ]
     },
     "metadata": {},
     "output_type": "display_data"
    },
    {
     "data": {
      "text/latex": [
       "$\\displaystyle \\implies x = 1153007 \\in \\mathbb{Z}_{2326170}$"
      ],
      "text/plain": [
       "<IPython.core.display.Math object>"
      ]
     },
     "metadata": {},
     "output_type": "display_data"
    },
    {
     "name": "stdout",
     "output_type": "stream",
     "text": [
      "\n"
     ]
    },
    {
     "data": {
      "text/latex": [
       "$\\displaystyle \\text{No se puede resolver el siguiente sistema porque las } n \\text{ no son coprimas:}$"
      ],
      "text/plain": [
       "<IPython.core.display.Math object>"
      ]
     },
     "metadata": {},
     "output_type": "display_data"
    },
    {
     "data": {
      "text/latex": [
       "$\\displaystyle x \\equiv 0 \\mod 12$"
      ],
      "text/plain": [
       "<IPython.core.display.Math object>"
      ]
     },
     "metadata": {},
     "output_type": "display_data"
    },
    {
     "data": {
      "text/latex": [
       "$\\displaystyle x \\equiv 0 \\mod 35$"
      ],
      "text/plain": [
       "<IPython.core.display.Math object>"
      ]
     },
     "metadata": {},
     "output_type": "display_data"
    },
    {
     "data": {
      "text/latex": [
       "$\\displaystyle x \\equiv 0 \\mod 21$"
      ],
      "text/plain": [
       "<IPython.core.display.Math object>"
      ]
     },
     "metadata": {},
     "output_type": "display_data"
    }
   ],
   "source": [
    "tests = [\n",
    "    ([18], [8]),\n",
    "    ([1, 1, 1], [7, 13, 11]),\n",
    "    ([4, 12, 0], [9, 14, 17])\n",
    "]\n",
    "\n",
    "for b, n in tests:\n",
    "    x, z = solve_congruences(b, n)\n",
    "    for bi, ni in zip(b, n):\n",
    "        display(Math(r\"x \\equiv \" + str(bi) + r\" \\mod \" + str(ni)))\n",
    "    display(Math(r\"\\implies x = \" + str(x) + r\" \\in \" + z.__latex__()))\n",
    "    print()\n",
    "\n",
    "\n",
    "tests = [\n",
    "    ([5], [3], [21]),\n",
    "    ([4, 9, 33, 1], [8, 23, 1, 42], [21, 38, 53, 55])\n",
    "]\n",
    "\n",
    "for a, b, n in tests:\n",
    "    x, z = solve_congruences(a, b, n)\n",
    "    for ai, bi, ni in zip(a, b, n):\n",
    "        display(Math(str(ai) + r\"x \\equiv \" + str(bi) + r\" \\mod \" + str(ni)))\n",
    "    display(Math(r\"\\implies x = \" + str(x) + r\" \\in \" + z.__latex__()))\n",
    "    print()\n",
    "\n",
    "try:\n",
    "    solve_congruences([0, 0, 0], [12, 35, 21])\n",
    "except:\n",
    "    display(Math(r\"\\text{No se puede resolver el siguiente sistema porque las } n \\text{ no son coprimas:}\"))\n",
    "    display(Math(r\"x \\equiv 0 \\mod 12\"))\n",
    "    display(Math(r\"x \\equiv 0 \\mod 35\"))\n",
    "    display(Math(r\"x \\equiv 0 \\mod 21\"))"
   ]
  },
  {
   "cell_type": "markdown",
   "metadata": {},
   "source": [
    "## Máximo común divisor en un DFU"
   ]
  },
  {
   "cell_type": "code",
   "execution_count": 10,
   "metadata": {},
   "outputs": [],
   "source": [
    "from compalg import Var, IZ, IF"
   ]
  },
  {
   "cell_type": "code",
   "execution_count": 11,
   "metadata": {},
   "outputs": [
    {
     "data": {
      "text/latex": [
       "$\\displaystyle \\text{mcd}(x^{2} + 2x + 1, \\, x + 1) = x + 1$"
      ],
      "text/plain": [
       "<IPython.core.display.Math object>"
      ]
     },
     "metadata": {},
     "output_type": "display_data"
    },
    {
     "data": {
      "text/latex": [
       "$\\displaystyle \\text{mcd}(6x^{5} + 5x^{4} + x^{3} + 6x^{2} + 5x + 1, \\, 7x^{8} + 8x^{5} + 3x^{4} + x^{2} + 3x) = x^{3} + 1$"
      ],
      "text/plain": [
       "<IPython.core.display.Math object>"
      ]
     },
     "metadata": {},
     "output_type": "display_data"
    },
    {
     "data": {
      "text/latex": [
       "$\\displaystyle \\text{mcd}(48x^{3} - 84x^{2} + 42x - 36, \\, -4x^{3} - 10x^{2} + 44x - 30) = 4x - 6$"
      ],
      "text/plain": [
       "<IPython.core.display.Math object>"
      ]
     },
     "metadata": {},
     "output_type": "display_data"
    },
    {
     "data": {
      "text/latex": [
       "$\\displaystyle \\text{mcd}(3x^{4} - 21x^{3} - 153x^{2} + 201x + 330, \\, 5x^{3} - 20x^{2} - 105x) = -1$"
      ],
      "text/plain": [
       "<IPython.core.display.Math object>"
      ]
     },
     "metadata": {},
     "output_type": "display_data"
    },
    {
     "data": {
      "text/latex": [
       "$\\displaystyle \\text{mcd}(10x^{4} - 70x^{3} - 510x^{2} + 670x + 1100, \\, 8x^{3} - 32x^{2} - 168x) = -2$"
      ],
      "text/plain": [
       "<IPython.core.display.Math object>"
      ]
     },
     "metadata": {},
     "output_type": "display_data"
    },
    {
     "data": {
      "text/latex": [
       "$\\displaystyle \\text{mcd}(12x^{3} + 60x + 24, \\, 8x^{3} + 40x + 16) = 4x^{3} + 20x + 8$"
      ],
      "text/plain": [
       "<IPython.core.display.Math object>"
      ]
     },
     "metadata": {},
     "output_type": "display_data"
    }
   ],
   "source": [
    "x = Var('x')\n",
    "\n",
    "IZx = IZ[x]\n",
    "\n",
    "tests = [\n",
    "    (x ** 2 + 2 * x + 1,                           x + 1),                                         # x + 1\n",
    "    ((x ** 3 + 1) * (6 * x ** 2 + 5 * x + 1),      (x ** 3 + 1) * (7 * x ** 5 + x ** 2 + 3 * x)),  # x^3 + 1\n",
    "    (48 * x ** 3 - 84 * x ** 2 + 42 * x - 36,      -4 * x ** 3 - 10 * x ** 2 + 44 * x - 30),       # 4x - 6\n",
    "    (3 * (x + 1) * (x - 2) * (x + 5) * (x - 11),   5 * (x + 3) * (x - 7) * x),                     # -1\n",
    "    (10 * (x + 1) * (x - 2) * (x + 5) * (x - 11),  8 * (x + 3) * (x - 7) * x),                     # -2\n",
    "    (12 * x ** 3 + 60 * x + 24,                    8 * x ** 3 + 40 * x + 16)                       # 4x^3 + 20x + 8\n",
    "]\n",
    "\n",
    "for p, q in tests:\n",
    "    gcd = IZx.gcd(p, q)\n",
    "    r = getattr(gcd, \"__latex__\", repr)\n",
    "    display(Math(r\"\\text{mcd}(\" + p.__latex__() + \", \\, \" + q.__latex__() + \") = \" + r()))"
   ]
  },
  {
   "cell_type": "markdown",
   "metadata": {},
   "source": [
    "#### También funciona para cualquier cuerpo y para más de dos."
   ]
  },
  {
   "cell_type": "code",
   "execution_count": 12,
   "metadata": {},
   "outputs": [
    {
     "data": {
      "text/latex": [
       "$\\displaystyle \\text{mcd}(5x^{2} + 6x + 2, \\, x^{3} + 5x^{2} + 3x + 6, \\, x^{3} + 3x^{2} + 2x + 1) = x^{2} + 4x + 6$"
      ],
      "text/plain": [
       "<IPython.core.display.Math object>"
      ]
     },
     "metadata": {},
     "output_type": "display_data"
    }
   ],
   "source": [
    "x = Var('x')\n",
    "\n",
    "IF7x = IF(7)[x]\n",
    "g = (x ** 2 + 4 * x + 6) @ IF7x\n",
    "p = (g * 5) @ IF7x\n",
    "q = (g * (x + 1)) @ IF7x\n",
    "r = (g * (x - 1)) @ IF7x\n",
    "\n",
    "gcd = IF7x.gcd(p, q, r)\n",
    "display(Math(r\"\\text{mcd}(\" + p.__latex__() + \", \\, \" + q.__latex__() + \", \\, \" + r.__latex__() + \") = \" + gcd.__latex__()))"
   ]
  }
 ],
 "metadata": {
  "kernelspec": {
   "display_name": "Python 3",
   "language": "python",
   "name": "python3"
  },
  "language_info": {
   "codemirror_mode": {
    "name": "ipython",
    "version": 3
   },
   "file_extension": ".py",
   "mimetype": "text/x-python",
   "name": "python",
   "nbconvert_exporter": "python",
   "pygments_lexer": "ipython3",
   "version": "3.8.3"
  }
 },
 "nbformat": 4,
 "nbformat_minor": 1
}
