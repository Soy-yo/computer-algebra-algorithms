{
 "cells": [
  {
   "cell_type": "markdown",
   "metadata": {},
   "source": [
    "# Algoritmos de factorización"
   ]
  },
  {
   "cell_type": "code",
   "execution_count": 1,
   "metadata": {},
   "outputs": [],
   "source": [
    "from IPython.display import Math, display\n",
    "import os\n",
    "\n",
    "if 'examples' in os.getcwd():\n",
    "    os.chdir('..')"
   ]
  },
  {
   "cell_type": "markdown",
   "metadata": {},
   "source": [
    "## En cuerpos finitos\n",
    "\n",
    "Algoritmos de las tres partes (square-free, distinct-degree y equal-degree), Berlekamp y Berlekamp/Cantor/Zassenhaus."
   ]
  },
  {
   "cell_type": "code",
   "execution_count": 2,
   "metadata": {},
   "outputs": [],
   "source": [
    "from compalg import IF, Var"
   ]
  },
  {
   "cell_type": "code",
   "execution_count": 3,
   "metadata": {},
   "outputs": [
    {
     "name": "stdout",
     "output_type": "stream",
     "text": [
      "Usando el método de Tres partes:\n"
     ]
    },
    {
     "data": {
      "text/latex": [
       "$\\displaystyle \\quad t + 1 = (t + 1) \\in \\mathbb{F}_{2}[t]$"
      ],
      "text/plain": [
       "<IPython.core.display.Math object>"
      ]
     },
     "metadata": {},
     "output_type": "display_data"
    },
    {
     "data": {
      "text/latex": [
       "$\\displaystyle \\quad t^{2} + t = (t)\\cdot(t + 1) \\in \\mathbb{F}_{2}[t]$"
      ],
      "text/plain": [
       "<IPython.core.display.Math object>"
      ]
     },
     "metadata": {},
     "output_type": "display_data"
    },
    {
     "data": {
      "text/latex": [
       "$\\displaystyle \\quad t^{2} + 1 = (t + 1)\\cdot(t + 1) \\in \\mathbb{F}_{2}[t]$"
      ],
      "text/plain": [
       "<IPython.core.display.Math object>"
      ]
     },
     "metadata": {},
     "output_type": "display_data"
    },
    {
     "data": {
      "text/latex": [
       "$\\displaystyle \\quad 4t^{2} + 4t + 1 = (t + 3)\\cdot(t + 3)\\cdot(4) \\in \\mathbb{F}_{5}[t]$"
      ],
      "text/plain": [
       "<IPython.core.display.Math object>"
      ]
     },
     "metadata": {},
     "output_type": "display_data"
    },
    {
     "data": {
      "text/latex": [
       "$\\displaystyle \\quad t^{8} + 4t^{7} + t^{6} + 2t^{4} + 4t^{3} + 3t^{2} + 2t + 4 = (t + 2)\\cdot(t + 2)\\cdot(t^{3} + t + 1)\\cdot(t^{3} + t + 1) \\in \\mathbb{F}_{5}[t]$"
      ],
      "text/plain": [
       "<IPython.core.display.Math object>"
      ]
     },
     "metadata": {},
     "output_type": "display_data"
    },
    {
     "data": {
      "text/latex": [
       "$\\displaystyle \\quad t^{7} + (x + 1)t^{6} + x^{2}t^{5} + (x^{2} + 1)t^{4} + (x^{2} + 1)t^{3} + (x^{2} + x + 1)t^{2} + 1 = (t^{2} + xt + x)\\cdot(t + 1)\\cdot(t + 1)\\cdot(t + 1)\\cdot(t + (x + 1))\\cdot(t + (x + 1)) \\in \\mathbb{F}_{8}[t]$"
      ],
      "text/plain": [
       "<IPython.core.display.Math object>"
      ]
     },
     "metadata": {},
     "output_type": "display_data"
    },
    {
     "data": {
      "text/latex": [
       "$\\displaystyle \\quad t^{11} + t^{10} + t^{9} + 2xt^{8} + 2xt^{7} + 2xt^{6} + (x + 1)t^{5} + (x + 1)t^{4} + (x + 1)t^{3} + t^{2} + t + 1 = (t + 2)\\cdot(t + 2)\\cdot(t + 2)\\cdot(t + 2)\\cdot(t + 2)\\cdot(t^{2} + (x + 1)t + 2)\\cdot(t^{2} + (x + 1)t + 2)\\cdot(t^{2} + (x + 1)t + 2) \\in \\mathbb{F}_{9}[t]$"
      ],
      "text/plain": [
       "<IPython.core.display.Math object>"
      ]
     },
     "metadata": {},
     "output_type": "display_data"
    },
    {
     "name": "stdout",
     "output_type": "stream",
     "text": [
      "\n",
      "Usando el método de Berlekamp:\n"
     ]
    },
    {
     "data": {
      "text/latex": [
       "$\\displaystyle \\quad t + 1 = (t + 1) \\in \\mathbb{F}_{2}[t]$"
      ],
      "text/plain": [
       "<IPython.core.display.Math object>"
      ]
     },
     "metadata": {},
     "output_type": "display_data"
    },
    {
     "data": {
      "text/latex": [
       "$\\displaystyle \\quad t^{2} + t = (t + 1)\\cdot(t) \\in \\mathbb{F}_{2}[t]$"
      ],
      "text/plain": [
       "<IPython.core.display.Math object>"
      ]
     },
     "metadata": {},
     "output_type": "display_data"
    },
    {
     "data": {
      "text/latex": [
       "$\\displaystyle \\quad t^{2} + 1 = (t + 1)\\cdot(t + 1) \\in \\mathbb{F}_{2}[t]$"
      ],
      "text/plain": [
       "<IPython.core.display.Math object>"
      ]
     },
     "metadata": {},
     "output_type": "display_data"
    },
    {
     "data": {
      "text/latex": [
       "$\\displaystyle \\quad 4t^{2} + 4t + 1 = (t + 3)\\cdot(t + 3)\\cdot(4) \\in \\mathbb{F}_{5}[t]$"
      ],
      "text/plain": [
       "<IPython.core.display.Math object>"
      ]
     },
     "metadata": {},
     "output_type": "display_data"
    },
    {
     "data": {
      "text/latex": [
       "$\\displaystyle \\quad t^{8} + 4t^{7} + t^{6} + 2t^{4} + 4t^{3} + 3t^{2} + 2t + 4 = (t + 2)\\cdot(t^{3} + t + 1)\\cdot(t + 2)\\cdot(t^{3} + t + 1) \\in \\mathbb{F}_{5}[t]$"
      ],
      "text/plain": [
       "<IPython.core.display.Math object>"
      ]
     },
     "metadata": {},
     "output_type": "display_data"
    },
    {
     "data": {
      "text/latex": [
       "$\\displaystyle \\quad t^{7} + (x + 1)t^{6} + x^{2}t^{5} + (x^{2} + 1)t^{4} + (x^{2} + 1)t^{3} + (x^{2} + x + 1)t^{2} + 1 = (t^{2} + xt + x)\\cdot(t + 1)\\cdot(t + 1)\\cdot(t + 1)\\cdot(t + (x + 1))\\cdot(t + (x + 1)) \\in \\mathbb{F}_{8}[t]$"
      ],
      "text/plain": [
       "<IPython.core.display.Math object>"
      ]
     },
     "metadata": {},
     "output_type": "display_data"
    },
    {
     "data": {
      "text/latex": [
       "$\\displaystyle \\quad t^{11} + t^{10} + t^{9} + 2xt^{8} + 2xt^{7} + 2xt^{6} + (x + 1)t^{5} + (x + 1)t^{4} + (x + 1)t^{3} + t^{2} + t + 1 = (t + 2)\\cdot(t + 2)\\cdot(t + 2)\\cdot(t + 2)\\cdot(t + 2)\\cdot(t^{2} + (x + 1)t + 2)\\cdot(t^{2} + (x + 1)t + 2)\\cdot(t^{2} + (x + 1)t + 2) \\in \\mathbb{F}_{9}[t]$"
      ],
      "text/plain": [
       "<IPython.core.display.Math object>"
      ]
     },
     "metadata": {},
     "output_type": "display_data"
    },
    {
     "name": "stdout",
     "output_type": "stream",
     "text": [
      "\n",
      "Usando el método de Berlekamp/Cantor/Zassenhaus:\n",
      "Berlekamp/Cantor/Zassenhaus no se puede aplicar cuando p=2\n",
      "Berlekamp/Cantor/Zassenhaus no se puede aplicar cuando p=2\n",
      "Berlekamp/Cantor/Zassenhaus no se puede aplicar cuando p=2\n"
     ]
    },
    {
     "data": {
      "text/latex": [
       "$\\displaystyle \\quad 4t^{2} + 4t + 1 = (t + 3)\\cdot(t + 3)\\cdot(4) \\in \\mathbb{F}_{5}[t]$"
      ],
      "text/plain": [
       "<IPython.core.display.Math object>"
      ]
     },
     "metadata": {},
     "output_type": "display_data"
    },
    {
     "data": {
      "text/latex": [
       "$\\displaystyle \\quad t^{8} + 4t^{7} + t^{6} + 2t^{4} + 4t^{3} + 3t^{2} + 2t + 4 = (t + 2)\\cdot(t^{3} + t + 1)\\cdot(t + 2)\\cdot(t^{3} + t + 1) \\in \\mathbb{F}_{5}[t]$"
      ],
      "text/plain": [
       "<IPython.core.display.Math object>"
      ]
     },
     "metadata": {},
     "output_type": "display_data"
    },
    {
     "name": "stdout",
     "output_type": "stream",
     "text": [
      "Berlekamp/Cantor/Zassenhaus no se puede aplicar cuando p=2\n"
     ]
    },
    {
     "data": {
      "text/latex": [
       "$\\displaystyle \\quad t^{11} + t^{10} + t^{9} + 2xt^{8} + 2xt^{7} + 2xt^{6} + (x + 1)t^{5} + (x + 1)t^{4} + (x + 1)t^{3} + t^{2} + t + 1 = (t + 2)\\cdot(t + 2)\\cdot(t + 2)\\cdot(t + 2)\\cdot(t + 2)\\cdot(t^{2} + (x + 1)t + 2)\\cdot(t^{2} + (x + 1)t + 2)\\cdot(t^{2} + (x + 1)t + 2) \\in \\mathbb{F}_{9}[t]$"
      ],
      "text/plain": [
       "<IPython.core.display.Math object>"
      ]
     },
     "metadata": {},
     "output_type": "display_data"
    },
    {
     "name": "stdout",
     "output_type": "stream",
     "text": [
      "\n"
     ]
    }
   ],
   "source": [
    "t = Var('t')\n",
    "x = Var('x')\n",
    "\n",
    "tests = [\n",
    "    (IF(2)[t], t + 1),\n",
    "    (IF(2)[t], (t + 1) * t),\n",
    "    (IF(2)[t], (t + 1) ** 2),\n",
    "    (IF(5)[t], (2 * t + 1) ** 2),\n",
    "    (IF(5)[t], (t ** 3 + t + 1) ** 2 * (t + 2) ** 2),\n",
    "    (IF(2, x ** 3 + x + 1)[t], (t + 1) ** 3 * (t + x + 1) ** 2 * (t ** 2 + t * x + x)),\n",
    "    (IF(3, x ** 2 + 1)[t], (t + 2) ** 5 * (t ** 2 + t * (x + 1) + 2) ** 3)\n",
    "]\n",
    "\n",
    "for method, name in [('ts', 'Tres partes'), ('bfa', 'Berlekamp'), ('cz', 'Berlekamp/Cantor/Zassenhaus')]:\n",
    "    print(f\"Usando el método de {name}:\")\n",
    "    for F, f in tests:\n",
    "        if method == 'cz' and F._base_ring.p == 2:\n",
    "            print(f\"{name} no se puede aplicar cuando p=2\")\n",
    "            continue\n",
    "        \n",
    "        f = f @ F\n",
    "        \n",
    "        gs = F.factor(f, method=method)\n",
    "        result = \"(\" + r\")\\cdot(\".join(g.__latex__() if hasattr(g, '__latex__') else repr(g) for g in gs) + \")\"\n",
    "        display(Math(\"\\quad \" + f.__latex__() + \" = \" + result + r\" \\in \" + F.__latex__()))\n",
    "    \n",
    "    print()"
   ]
  },
  {
   "cell_type": "markdown",
   "metadata": {},
   "source": [
    "## En $\\mathbb{Z}$\n",
    "\n",
    "Algoritmos de Kronecker y Hensel Lifting."
   ]
  },
  {
   "cell_type": "code",
   "execution_count": 4,
   "metadata": {},
   "outputs": [],
   "source": [
    "from compalg import IZ"
   ]
  },
  {
   "cell_type": "code",
   "execution_count": 5,
   "metadata": {},
   "outputs": [
    {
     "name": "stdout",
     "output_type": "stream",
     "text": [
      "Usando el método de Kronecker:\n"
     ]
    },
    {
     "data": {
      "text/latex": [
       "$\\displaystyle \\quad x + 1 = (x + 1)$"
      ],
      "text/plain": [
       "<IPython.core.display.Math object>"
      ]
     },
     "metadata": {},
     "output_type": "display_data"
    },
    {
     "data": {
      "text/latex": [
       "$\\displaystyle \\quad x^{2} + 2x + 1 = (x + 1)\\cdot(x + 1)$"
      ],
      "text/plain": [
       "<IPython.core.display.Math object>"
      ]
     },
     "metadata": {},
     "output_type": "display_data"
    },
    {
     "data": {
      "text/latex": [
       "$\\displaystyle \\quad 2x^{4} + 4x^{2} + 2 = (x^{2} + 1)\\cdot(x^{2} + 1)\\cdot(2)$"
      ],
      "text/plain": [
       "<IPython.core.display.Math object>"
      ]
     },
     "metadata": {},
     "output_type": "display_data"
    },
    {
     "data": {
      "text/latex": [
       "$\\displaystyle \\quad x^{6} + 2x^{4} + 11x^{2} + 10 = (x^{2} + 1)\\cdot(x^{4} + x^{2} + 10)$"
      ],
      "text/plain": [
       "<IPython.core.display.Math object>"
      ]
     },
     "metadata": {},
     "output_type": "display_data"
    },
    {
     "data": {
      "text/latex": [
       "$\\displaystyle \\quad x^{7} + 2x^{5} + x^{4} - 2x^{3} + x^{2} - 3x - 3 = (x^{3} + x + 1)\\cdot(x^{4} + x^{2} - 3)$"
      ],
      "text/plain": [
       "<IPython.core.display.Math object>"
      ]
     },
     "metadata": {},
     "output_type": "display_data"
    },
    {
     "name": "stdout",
     "output_type": "stream",
     "text": [
      "\n",
      "Usando el método de Hensel Lifting:\n"
     ]
    },
    {
     "data": {
      "text/latex": [
       "$\\displaystyle \\quad x + 1 = (x + 1)$"
      ],
      "text/plain": [
       "<IPython.core.display.Math object>"
      ]
     },
     "metadata": {},
     "output_type": "display_data"
    },
    {
     "name": "stdout",
     "output_type": "stream",
     "text": [
      "Hensel Lifting no se puede aplicar a polinomios con raíces múltiples\n",
      "Hensel Lifting no se puede aplicar a polinomios con raíces múltiples\n"
     ]
    },
    {
     "data": {
      "text/latex": [
       "$\\displaystyle \\quad x^{6} + 2x^{4} + 11x^{2} + 10 = (x^{4} + x^{2} + 10)\\cdot(x^{2} + 1)$"
      ],
      "text/plain": [
       "<IPython.core.display.Math object>"
      ]
     },
     "metadata": {},
     "output_type": "display_data"
    },
    {
     "data": {
      "text/latex": [
       "$\\displaystyle \\quad x^{7} + 2x^{5} + x^{4} - 2x^{3} + x^{2} - 3x - 3 = (x^{4} + x^{2} - 3)\\cdot(x^{3} + x + 1)$"
      ],
      "text/plain": [
       "<IPython.core.display.Math object>"
      ]
     },
     "metadata": {},
     "output_type": "display_data"
    },
    {
     "name": "stdout",
     "output_type": "stream",
     "text": [
      "\n"
     ]
    }
   ],
   "source": [
    "x = Var('x')\n",
    "IZx = IZ[x]\n",
    "\n",
    "tests = [\n",
    "    (x + 1, True),\n",
    "    (x ** 2 + 2 * x + 1, False),\n",
    "    (2 * x ** 4 + 4 * x ** 2 + 2, False),\n",
    "    ((x ** 2 + 1) * (x ** 4 + x ** 2 + 10), True),\n",
    "    ((x ** 3 + x + 1) * (x ** 4 + x ** 2 - 3), True)\n",
    "]\n",
    "\n",
    "for method, name in [('km', 'Kronecker'), ('hl', 'Hensel Lifting')]:\n",
    "    print(f\"Usando el método de {name}:\")\n",
    "    for f, sf in tests:\n",
    "        if not sf and method == 'hl':\n",
    "            print(f\"{name} no se puede aplicar a polinomios con raíces múltiples\")\n",
    "            continue\n",
    "        \n",
    "        gs = IZx.factor(f, method=method)\n",
    "        result = \"(\" + r\")\\cdot(\".join(g.__latex__() if hasattr(g, '__latex__') else repr(g) for g in gs) + \")\"\n",
    "        display(Math(\"\\quad \" + f.__latex__() + \" = \" + result))\n",
    "    \n",
    "    print()"
   ]
  }
 ],
 "metadata": {
  "kernelspec": {
   "display_name": "Python 3",
   "language": "python",
   "name": "python3"
  },
  "language_info": {
   "codemirror_mode": {
    "name": "ipython",
    "version": 3
   },
   "file_extension": ".py",
   "mimetype": "text/x-python",
   "name": "python",
   "nbconvert_exporter": "python",
   "pygments_lexer": "ipython3",
   "version": "3.8.3"
  }
 },
 "nbformat": 4,
 "nbformat_minor": 4
}
