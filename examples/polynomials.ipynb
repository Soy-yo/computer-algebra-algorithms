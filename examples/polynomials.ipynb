{
 "cells": [
  {
   "cell_type": "code",
   "execution_count": 2,
   "metadata": {
    "collapsed": true
   },
   "outputs": [
    {
     "data": {
      "text/plain": "\\theta^4 + 2\\theta^2 + \\theta + 1",
      "text/latex": "$\\theta^{4}+2\\theta^{2}+\\theta+1$"
     },
     "execution_count": 2,
     "metadata": {},
     "output_type": "execute_result"
    }
   ],
   "source": [
    "from structures import Polynomial, Var\n",
    "import numpy as np\n",
    "\n",
    "x = Var(r'\\theta')\n",
    "\n",
    "p = 2 * x**2 + x + 1\n",
    "q = x**4\n",
    "r = p + q\n",
    "r"
   ]
  }
 ],
 "metadata": {
  "kernelspec": {
   "display_name": "Python 3",
   "language": "python",
   "name": "python3"
  },
  "language_info": {
   "codemirror_mode": {
    "name": "ipython",
    "version": 2
   },
   "file_extension": ".py",
   "mimetype": "text/x-python",
   "name": "python",
   "nbconvert_exporter": "python",
   "pygments_lexer": "ipython2",
   "version": "2.7.6"
  }
 },
 "nbformat": 4,
 "nbformat_minor": 0
}